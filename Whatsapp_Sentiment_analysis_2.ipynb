{
  "nbformat": 4,
  "nbformat_minor": 0,
  "metadata": {
    "colab": {
      "provenance": [],
      "authorship_tag": "ABX9TyPuszX3s8ojtl9rhtTqPflJ",
      "include_colab_link": true
    },
    "kernelspec": {
      "name": "python3",
      "display_name": "Python 3"
    },
    "language_info": {
      "name": "python"
    }
  },
  "cells": [
    {
      "cell_type": "markdown",
      "metadata": {
        "id": "view-in-github",
        "colab_type": "text"
      },
      "source": [
        "<a href=\"https://colab.research.google.com/github/HAZZANAyatullah/HAZZANAyatullah/blob/main/Whatsapp_Sentiment_analysis_2.ipynb\" target=\"_parent\"><img src=\"https://colab.research.google.com/assets/colab-badge.svg\" alt=\"Open In Colab\"/></a>"
      ]
    },
    {
      "cell_type": "code",
      "execution_count": null,
      "metadata": {
        "id": "q4eP_c2V8I_E"
      },
      "outputs": [],
      "source": [
        "import pandas as pd\n",
        "import numpy as  np\n",
        "import re\n",
        "import matplotlib.pyplot as plt\n",
        "from PIL import Image\n",
        "from collections import Counter\n",
        "from wordcloud import WordCloud, STOPWORDS, ImageColorGenerator"
      ]
    },
    {
      "cell_type": "code",
      "source": [
        "conversation = '/content/WhatsApp Chat with Happy People.txt'"
      ],
      "metadata": {
        "id": "M4GD2zEI826p"
      },
      "execution_count": null,
      "outputs": []
    },
    {
      "cell_type": "code",
      "source": [
        "def date_time(s):\n",
        "    pattern = '^([0-9]+) (\\/)([0-9]+) (\\/([0-9]+)), ([0-9]+) [ ]? (AM| PM| am| pm) ?-'\n",
        "    result = re.match(pattern, s)\n",
        "    if result:\n",
        "        return True\n",
        "    return False"
      ],
      "metadata": {
        "id": "Mxf9mppKALfC"
      },
      "execution_count": 43,
      "outputs": []
    },
    {
      "cell_type": "code",
      "source": [
        "def find_author(s):\n",
        "    s = s.split(\"\")\n",
        "    if len(s) == 5:\n",
        "        return True\n",
        "    else:\n",
        "        return False"
      ],
      "metadata": {
        "id": "bGpNvChvALmP"
      },
      "execution_count": null,
      "outputs": []
    },
    {
      "cell_type": "code",
      "source": [
        "\n",
        "def messages (line) :\n",
        "    splitline=line. split(' - ')\n",
        "    dateTime=splitline [0]\n",
        "    date,time=dateTime.split (\",\")\n",
        "    message=\" \".join(splitline [1:])\n",
        "\n",
        "    if find_author (message):\n",
        "        splitmessage=message.split(\" : \")\n",
        "        author=splitmessage [0]\n",
        "        message=\" \".join(splitmessage[1:])\n",
        "    else:\n",
        "        author=None\n",
        "    return date,time,author,message"
      ],
      "metadata": {
        "id": "y4rjWRF4F5PS"
      },
      "execution_count": null,
      "outputs": []
    },
    {
      "cell_type": "code",
      "source": [
        "\n",
        "data=[]\n",
        "conversation= '/content/WhatsApp Chat with Happy People.txt'\n",
        "\n",
        "with open (conversation, encoding=\"utf-8\") as fp:\n",
        "    fp.readline()\n",
        "    messageBuffer=[]\n",
        "    date,time, author=None, None , None\n",
        "\n",
        "\n",
        "    while True:\n",
        "        line=fp.readline ()\n",
        "        if not line:\n",
        "            break\n",
        "        line=line.strip()\n",
        "        if date_time(line):\n",
        "            if len(messageBuffer) >0:\n",
        "                date.append([date, time, author, ' '.join (messageBuffer)])\n",
        "            messageBuffer.clear()\n",
        "            date,time, author, message=messages(line)\n",
        "            messageBuffer.append (message)\n",
        "        else:\n",
        "             messageBuffer.append (line)"
      ],
      "metadata": {
        "id": "E_kEeFERH6Hv"
      },
      "execution_count": 44,
      "outputs": []
    },
    {
      "cell_type": "code",
      "source": [],
      "metadata": {
        "id": "ZBezd-r3Vb54"
      },
      "execution_count": null,
      "outputs": []
    },
    {
      "source": [
        "!pip install vaderSentiment # Install the vaderSentiment module\n",
        "\n",
        "import pandas as pd\n",
        "from nltk.sentiment.vader import SentimentIntensityAnalyzer # Import from the correct module\n",
        "\n",
        "df = pd.DataFrame (data, columns=[ \"Date\", 'Time', 'Author', 'Message'])\n",
        "df['Date'] = pd.to_datetime (df['Date'])\n",
        "data = df.dropna ()\n",
        "\n",
        "sentiments = SentimentIntensityAnalyzer () # Initialize the sentiment analyzer\n",
        "data[\"Positive\"] = [sentiments.polarity_scores (i) [\"pos\"] for i in data[\"Message\"]]\n",
        "data[\"Negative\"] = [sentiments.polarity_scores (i) [ \"neg\"] for i in data[\"Message\"]]\n",
        "data[ \"Neutral\"] = [sentiments.polarity_scores(i) [\"neu\" ] for i in data[\"Message\"]]\n",
        "print(data.head())"
      ],
      "cell_type": "code",
      "metadata": {
        "id": "jxNbhMrLVgo3"
      },
      "execution_count": null,
      "outputs": []
    },
    {
      "cell_type": "code",
      "source": [
        "\n",
        "\n",
        "df = pd.DataFrame (data, columns=[ \"Date\", 'Time', 'Author', 'Message'])\n",
        "df['Date'] = pd.to_datetime (df['Date'])\n",
        "data = df.dropna ()\n",
        "from nltk.sentiment.vader import SentimentIntensityAnalyzer\n",
        "from vaderSentiment.vaderSentiment import SentimentIntensityAnalyzer\n",
        "sentiments = SentimentIntensityAnalyzer ()\n",
        "data[\"Positive\"] = [sentiments.polarity_scores (i) [\"pos\"] for i in data[\"Message\"]]\n",
        "data[\"Negative\"] = [sentiments.polarity_scores (i) [ \"neg\"] for i in data[\"Message\"]]\n",
        "data[ \"Neutral\"] = [sentiments.polarity_scores(i) [\"neu\" ] for i in data[\"Message\"]]\n",
        "print(data.head())"
      ],
      "metadata": {
        "id": "4mRLRPvEOQ2P",
        "colab": {
          "base_uri": "https://localhost:8080/"
        },
        "outputId": "fe1cf8c9-e870-4c61-e15f-425b08f72611"
      },
      "execution_count": 54,
      "outputs": [
        {
          "output_type": "stream",
          "name": "stdout",
          "text": [
            "Empty DataFrame\n",
            "Columns: [Date, Time, Author, Message, Positive, Negative, Neutral]\n",
            "Index: []\n"
          ]
        }
      ]
    },
    {
      "cell_type": "code",
      "source": [
        "\n",
        "x=sum(data[ \"Positive\"] )\n",
        "y=sum (data[ \"Negative\"])\n",
        "z=sum(data[ \"Neutral\"])\n",
        "def score(a, b, c):\n",
        "    if (a>b) and (a>c):\n",
        "        print(\"Positive\")\n",
        "    elif (b>a) and (b>c):\n",
        "        print (\"Negative\")\n",
        "    else:\n",
        "        print (\"Neutral\")\n",
        "score(x,y, z)"
      ],
      "metadata": {
        "colab": {
          "base_uri": "https://localhost:8080/"
        },
        "id": "BJsHndS2V3Qb",
        "outputId": "faf4b037-85cd-42e4-af78-63ec95dc6bbe"
      },
      "execution_count": 56,
      "outputs": [
        {
          "output_type": "stream",
          "name": "stdout",
          "text": [
            "Neutral\n"
          ]
        }
      ]
    }
  ]
}